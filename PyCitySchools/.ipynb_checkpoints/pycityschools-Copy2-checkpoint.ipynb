{
 "cells": [
  {
   "cell_type": "code",
   "execution_count": null,
   "metadata": {},
   "outputs": [],
   "source": [
    "import pandas as pd\n",
    "\n",
    "# Resources\n",
    "schools_file = \"Resources/schools_complete.csv\"\n",
    "students_file = \"Resources/students_complete.csv\"\n",
    "\n",
    "# Pull in resources\n",
    "schools_csv = pd.read_csv(schools_file)\n",
    "# schools_csv.head()"
   ]
  },
  {
   "cell_type": "code",
   "execution_count": null,
   "metadata": {},
   "outputs": [],
   "source": [
    "students_csv = pd.read_csv(students_file)\n",
    "students_csv.head()\n",
    "# students_csv.columns"
   ]
  },
  {
   "cell_type": "code",
   "execution_count": null,
   "metadata": {},
   "outputs": [],
   "source": [
    "schools = schools_csv['school_name']\n",
    "schools_csv.head()\n",
    "# schools_csv.columns"
   ]
  },
  {
   "cell_type": "code",
   "execution_count": null,
   "metadata": {},
   "outputs": [],
   "source": [
    "schools_csv['school_name'].count\n",
    "\n",
    "total_schools = schools_csv['school_name'].count()\n",
    "total_schools"
   ]
  },
  {
   "cell_type": "code",
   "execution_count": null,
   "metadata": {},
   "outputs": [],
   "source": [
    "schools_with_students = pd.merge(schools_csv,students_csv, on=['school_name','school_name'])\n",
    "schools_with_students.head()\n",
    "test2=schools_with_students"
   ]
  },
  {
   "cell_type": "code",
   "execution_count": null,
   "metadata": {},
   "outputs": [],
   "source": [
    "# Rename columns so that they are differentiated\n",
    "schools_with_students = schools_with_students.rename(columns={\n",
    "    \"school_name\": \"School Name\", \n",
    "    \"type\": \"School Type\", \n",
    "    \"budget\": \"Total School Budget\",\n",
    "    }\n",
    ")\n",
    "schools_with_students.head()"
   ]
  },
  {
   "cell_type": "code",
   "execution_count": null,
   "metadata": {},
   "outputs": [],
   "source": [
    "# counts as string\n",
    "total_students = schools_with_students['student_name'].count()\n",
    "# '{:,}'.format(total_students)"
   ]
  },
  {
   "cell_type": "code",
   "execution_count": null,
   "metadata": {},
   "outputs": [],
   "source": [
    "total_budget = schools_csv['budget'].sum()\n",
    "# '${:,.2f}'.format(total_budget)"
   ]
  },
  {
   "cell_type": "code",
   "execution_count": null,
   "metadata": {},
   "outputs": [],
   "source": [
    "average_math_score = schools_with_students['math_score'].mean()\n",
    "# average_math_score\n",
    "# average_math_score_rounded = round(average_math_score,6)\n",
    "# average_math_score_rounded\n",
    "\n",
    "average_reading_score = schools_with_students['reading_score'].mean()\n",
    "# average_reading_score\n",
    "\n",
    "passing_math_score_percentage = sum((schools_with_students['math_score']>=70)) / total_students * 100\n",
    "# passing_math_score_percentage\n",
    "\n",
    "passing_reading_score_percentage = sum((schools_with_students['reading_score']>=70)) / total_students * 100\n",
    "# passing_reading_score_percentage"
   ]
  },
  {
   "cell_type": "code",
   "execution_count": null,
   "metadata": {},
   "outputs": [],
   "source": [
    "overall_passing_rate_percentage = ( sum((schools_with_students['math_score']>=70)) + sum((schools_with_students['reading_score']>=70)))\n",
    "overall_passing_rate_percentage = overall_passing_rate_percentage / total_students\n",
    "overall_passing_rate_percentage = overall_passing_rate_percentage / 2\n",
    "overall_passing_rate_percentage = overall_passing_rate_percentage * 100\n",
    "# overall_passing_rate_percentage"
   ]
  },
  {
   "cell_type": "code",
   "execution_count": null,
   "metadata": {},
   "outputs": [],
   "source": [
    "# schools_with_students.describe()"
   ]
  },
  {
   "cell_type": "code",
   "execution_count": null,
   "metadata": {},
   "outputs": [],
   "source": [
    "# create dataframe for district summary output\n",
    "district_summary = pd.DataFrame(\n",
    "{\"Total Schools\" : [total_schools],\n",
    "\"Total Students\" : ['{:,}'.format(total_students)],\n",
    "\"Total Budget\" : ['${:,.2f}'.format(total_budget)],\n",
    "\"Average Math Score\" : [round(average_math_score,6)],\n",
    "\"Average Reading Score\" : [round(average_reading_score,6)],\n",
    "\"% Passing Math\" : [round(passing_math_score_percentage,6)],\n",
    "\"% Passing Reading\" : [round(passing_reading_score_percentage,6)],\n",
    "\"% Overall Passing Rate\" : [round(overall_passing_rate_percentage,6)]\n",
    "})\n",
    "district_summary"
   ]
  },
  {
   "cell_type": "code",
   "execution_count": null,
   "metadata": {
    "scrolled": true
   },
   "outputs": [],
   "source": [
    "# aggregate columns for grouped values\n",
    "aggregation = { \n",
    "    \"reading_score\": {\n",
    "        \"reading_score\": 'mean'\n",
    "    },\n",
    "    \"Student ID\": {\n",
    "        \"Student ID\": 'count'\n",
    "    },\n",
    "    \"math_score\": {\n",
    "        \"math_score\": 'mean'\n",
    "    }\n",
    "}\n",
    "\n",
    "school_summary = schools_with_students.groupby(['School Name','School Type','Total School Budget'],as_index=False).agg(aggregation)\n",
    "\n",
    "school_summary.head()"
   ]
  },
  {
   "cell_type": "code",
   "execution_count": null,
   "metadata": {},
   "outputs": [],
   "source": [
    "school_summary.columns"
   ]
  },
  {
   "cell_type": "code",
   "execution_count": null,
   "metadata": {},
   "outputs": [],
   "source": [
    "# set index on School Name\n",
    "school_summary.set_index('School Name',inplace=True)\n",
    "school_summary.head()"
   ]
  },
  {
   "cell_type": "code",
   "execution_count": null,
   "metadata": {},
   "outputs": [],
   "source": [
    "school_summary.columns"
   ]
  },
  {
   "cell_type": "code",
   "execution_count": null,
   "metadata": {},
   "outputs": [],
   "source": [
    "# rename columns\n",
    "school_summary = school_summary.rename(columns={\n",
    "    \"Student ID\": \"Total Students\", \n",
    "    \"reading_score\": \"Average Reading Score\", \n",
    "    \"math_score\": \"Average Math Score\",\n",
    "    }\n",
    ")\n",
    "school_summary.head()"
   ]
  },
  {
   "cell_type": "code",
   "execution_count": null,
   "metadata": {},
   "outputs": [],
   "source": [
    "school_summary.columns"
   ]
  },
  {
   "cell_type": "code",
   "execution_count": null,
   "metadata": {},
   "outputs": [],
   "source": [
    "# x = school_summary[\"Total School Budget\"]/1000\n",
    "\n",
    "# school_summary[\"Test Budget\"] = x\n",
    "# school_summary.head()"
   ]
  },
  {
   "cell_type": "code",
   "execution_count": null,
   "metadata": {},
   "outputs": [],
   "source": [
    "# set different column sequence\n",
    "school_summary = school_summary[['School Type','Total Students','Total School Budget','Average Math Score','Average Reading Score']]\n",
    "school_summary.head()"
   ]
  },
  {
   "cell_type": "code",
   "execution_count": null,
   "metadata": {},
   "outputs": [],
   "source": [
    "type(school_summary)"
   ]
  },
  {
   "cell_type": "code",
   "execution_count": null,
   "metadata": {},
   "outputs": [],
   "source": [
    "# school_summary[\"Per Student Budget\"] = school_summary[\"Total School Budget\"] +\\\n",
    "#     school_summary[\"Total Students\"]"
   ]
  },
  {
   "cell_type": "code",
   "execution_count": null,
   "metadata": {},
   "outputs": [],
   "source": [
    "schools_with_students.head()"
   ]
  },
  {
   "cell_type": "code",
   "execution_count": null,
   "metadata": {},
   "outputs": [],
   "source": [
    "schools_with_students.columns"
   ]
  },
  {
   "cell_type": "code",
   "execution_count": null,
   "metadata": {},
   "outputs": [],
   "source": [
    "test2.columns"
   ]
  },
  {
   "cell_type": "code",
   "execution_count": null,
   "metadata": {},
   "outputs": [],
   "source": [
    "test2.head()"
   ]
  },
  {
   "cell_type": "code",
   "execution_count": null,
   "metadata": {},
   "outputs": [],
   "source": [
    "test2.drop(['School ID','gender','student_name'], axis=1)"
   ]
  },
  {
   "cell_type": "code",
   "execution_count": null,
   "metadata": {},
   "outputs": [],
   "source": [
    "test2.columns"
   ]
  },
  {
   "cell_type": "code",
   "execution_count": null,
   "metadata": {},
   "outputs": [],
   "source": [
    "test3 = test2[['school_name'],['type'],['size'],['budget'],['Student_ID'],['reading_score'],['math_score']]"
   ]
  },
  {
   "cell_type": "code",
   "execution_count": null,
   "metadata": {},
   "outputs": [],
   "source": [
    "test3.head()"
   ]
  },
  {
   "cell_type": "code",
   "execution_count": null,
   "metadata": {},
   "outputs": [],
   "source": [
    "test4 = test2.groupby([\"school_name\"],as_index=True)"
   ]
  },
  {
   "cell_type": "code",
   "execution_count": null,
   "metadata": {
    "scrolled": true
   },
   "outputs": [],
   "source": [
    "test4.head()"
   ]
  },
  {
   "cell_type": "code",
   "execution_count": null,
   "metadata": {},
   "outputs": [],
   "source": []
  }
 ],
 "metadata": {
  "kernelspec": {
   "display_name": "Python 3",
   "language": "python",
   "name": "python3"
  },
  "language_info": {
   "codemirror_mode": {
    "name": "ipython",
    "version": 3
   },
   "file_extension": ".py",
   "mimetype": "text/x-python",
   "name": "python",
   "nbconvert_exporter": "python",
   "pygments_lexer": "ipython3",
   "version": "3.7.1"
  }
 },
 "nbformat": 4,
 "nbformat_minor": 2
}
